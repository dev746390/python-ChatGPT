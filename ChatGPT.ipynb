{
 "cells": [
  {
   "cell_type": "markdown",
   "id": "f36026de-c909-4524-84bb-834404b82e8f",
   "metadata": {},
   "source": [
    "# 🤖 ChatGPT-Python 🐍\n",
    "[![Build Status](https://img.shields.io/github/stars/dylanmeca/ChatGPT-Python.svg)](https://github.com/dylanmeca/ChatGPT-Python)\n",
    "[![License](https://img.shields.io/github/license/dylanmeca/ChatGPT-Python.svg)](https://github.com/dylanmeca/ChatGPT-Python/blob/main/LICENSE)\n",
    "[![dylanmeca](https://img.shields.io/badge/author-dylanmeca-green.svg)](https://github.com/dylanmeca)\n",
    "[![Python](https://img.shields.io/badge/language-Python%20-yellow.svg)](https://www.python.org)\n",
    "![logo](https://github.com/dylanmeca/ChatGPT-Python/raw/main/logo.png)\n",
    "\n",
    "## 📜 Licencia\n",
    "Este codigo se distribuye bajo la licencia [GPL-3.0](https://github.com/dylanmeca/ChatGPT-Python/blob/main/LICENSE). Esto significa que el código es libre de usar, modificar y distribuir siempre y cuando se respeten los términos de la licencia.\n",
    "\n",
    "Para obtener más información sobre la licencia, consulta el archivo [LICENSE](https://github.com/dylanmeca/ChatGPT-Python/blob/main/LICENSE) incluido en el repositorio.\n",
    "\n",
    "## 🧾 Créditos\n",
    "Este codigo ha sido desarrollado por [Dylan Meca](https://github.com/dylanmeca) y las contribuciones de los [usuarios](https://github.com/dylanmeca/ChatGPT-Python/contributors)."
   ]
  },
  {
   "cell_type": "code",
   "execution_count": null,
   "id": "b0831cca-ebc3-4ea8-acfd-da8a7b7258f7",
   "metadata": {},
   "outputs": [],
   "source": [
    "# Librerías necesarias\n",
    "!pip install openai\n",
    "!pip install gradio"
   ]
  },
  {
   "cell_type": "code",
   "execution_count": null,
   "id": "cc7de988-ef6c-423b-b42a-c37aa20d5d47",
   "metadata": {},
   "outputs": [],
   "source": [
    "import openai\n",
    "import gradio as gr\n",
    "\n",
    "# Obteniendo respuestas usando la API de OpenAI\n",
    "def respuesta_chatgpt(api_key, mensaje):\n",
    "  # OPENAI API KEY\n",
    "  openai.api_key = api_key\n",
    "  prompt = (f\"{mensaje}\")\n",
    "  response = openai.Completion.create(\n",
    "      engine=\"text-davinci-003\",\n",
    "      prompt=prompt,\n",
    "      max_tokens=1024\n",
    "  )\n",
    "  # Mostrando la respuesta en pantalla\n",
    "  respuesta = response[\"choices\"][0][\"text\"]\n",
    "  return respuesta\n",
    "      \n",
    "# Entrada del usuario\n",
    "chatbot = gr.Interface(\n",
    "    fn=respuesta_chatgpt, \n",
    "    inputs=[\"text\", \"text\"],\n",
    "    outputs=\"text\",\n",
    ")\n",
    "chatbot.launch()   "
   ]
  }
 ],
 "metadata": {
  "kernelspec": {
   "display_name": "Python 3 (ipykernel)",
   "language": "python",
   "name": "python3"
  },
  "language_info": {
   "codemirror_mode": {
    "name": "ipython",
    "version": 3
   },
   "file_extension": ".py",
   "mimetype": "text/x-python",
   "name": "python",
   "nbconvert_exporter": "python",
   "pygments_lexer": "ipython3",
   "version": "3.9.13"
  }
 },
 "nbformat": 4,
 "nbformat_minor": 5
}

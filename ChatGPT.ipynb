{
 "cells": [
  {
   "cell_type": "code",
   "execution_count": null,
   "id": "cc7de988-ef6c-423b-b42a-c37aa20d5d47",
   "metadata": {},
   "outputs": [],
   "source": [
    "import openai\n",
    "import gradio as gr\n",
    "\n",
    "# OPENAI API KEY\n",
    "openai.api_key = \"\"\n",
    "\n",
    "# Obteniendo respuestas usando la API de OpenAI\n",
    "def respuesta_chatgpt(mensaje):\n",
    "    prompt = (f\"{mensaje}\")\n",
    "    response = openai.Completion.create(\n",
    "        engine=\"text-davinci-003\",\n",
    "        prompt=prompt,\n",
    "        max_tokens=1024\n",
    "    )\n",
    "    # Mostrando la respuesta en pantalla\n",
    "    respuesta = response[\"choices\"][0][\"text\"]\n",
    "    return respuesta\n",
    "\n",
    "# Entrada del usuario\n",
    "chatbot = gr.Interface(fn=respuesta_chatgpt, inputs=\"text\", outputs=\"text\")\n",
    "chatbot.launch()   "
   ]
  }
 ],
 "metadata": {
  "kernelspec": {
   "display_name": "Python 3 (ipykernel)",
   "language": "python",
   "name": "python3"
  },
  "language_info": {
   "codemirror_mode": {
    "name": "ipython",
    "version": 3
   },
   "file_extension": ".py",
   "mimetype": "text/x-python",
   "name": "python",
   "nbconvert_exporter": "python",
   "pygments_lexer": "ipython3",
   "version": "3.9.13"
  }
 },
 "nbformat": 4,
 "nbformat_minor": 5
}

{
 "cells": [
  {
   "cell_type": "markdown",
   "id": "f36026de-c909-4524-84bb-834404b82e8f",
   "metadata": {},
   "source": [
    "# 🤖 ChatGPT-Python 🐍\n",
    "[![Build Status](https://img.shields.io/github/stars/dylanmeca/ChatGPT-Python.svg)](https://github.com/dylanmeca/ChatGPT-Python)\n",
    "[![License](https://img.shields.io/github/license/dylanmeca/ChatGPT-Python.svg)](https://github.com/dylanmeca/ChatGPT-Python/blob/main/LICENSE)\n",
    "[![dylanmeca](https://img.shields.io/badge/author-dylanmeca-green.svg)](https://github.com/dylanmeca)\n",
    "[![Python](https://img.shields.io/badge/language-Python%20-yellow.svg)](https://www.python.org)\n",
    "![logo](https://github.com/dylanmeca/ChatGPT-Python/raw/main/logo.png)\n",
    "\n",
    "ChatGPT-Python is a software that allows you to use ChatGPT from python through a web interface, using the [OpenAI API](https://openai.com/api/).\n",
    "\n",
    "## 📜 License\n",
    "This project is distributed under the license [GPL-3.0](https://github.com/dylanmeca/ChatGPT-Python/blob/main/LICENSE). This means that the code and documentation in this project are free to use, modify, and distribute as long as you respect the license terms.\n",
    "\n",
    "For more information about the license, see the file [LICENSE](https://github.com/dylanmeca/ChatGPT-Python/blob/main/LICENSE) included in this repository.\n",
    "\n",
    "## 🧾 Credits\n",
    "This project has been developed by [Dylan Meca](https://github.com/dylanmeca) and contributions from [users](https://github.com/dylanmeca/ChatGPT-Python/contributors)."
   ]
  },
  {
   "cell_type": "code",
   "execution_count": null,
   "id": "b0831cca-ebc3-4ea8-acfd-da8a7b7258f7",
   "metadata": {},
   "outputs": [],
   "source": [
    "# Necessary libraries\n",
    "!pip install openai\n",
    "!pip install gradio"
   ]
  },
  {
   "cell_type": "code",
   "execution_count": null,
   "id": "cc7de988-ef6c-423b-b42a-c37aa20d5d47",
   "metadata": {},
   "outputs": [],
   "source": [
    "import openai\n",
    "import gradio as gr\n",
    "\n",
    "# Getting responses using the OpenAI API\n",
    "def respuesta_chatgpt(api_key, mensaje):\n",
    "  # OPENAI API KEY\n",
    "  openai.api_key = api_key\n",
    "  prompt = (f\"{mensaje}\")\n",
    "  response = openai.Completion.create(\n",
    "      engine=\"text-davinci-003\",\n",
    "      prompt=prompt,\n",
    "      max_tokens=1024\n",
    "  )\n",
    "  # Displaying the answer on the screen\n",
    "  respuesta = response[\"choices\"][0][\"text\"]\n",
    "  return respuesta\n",
    "      \n",
    "# User input\n",
    "chatbot = gr.Interface(\n",
    "    fn=respuesta_chatgpt, \n",
    "    inputs=[\"text\", \"text\"],\n",
    "    outputs=\"text\",\n",
    ")\n",
    "chatbot.launch()   "
   ]
  }
 ],
 "metadata": {
  "kernelspec": {
   "display_name": "Python 3 (ipykernel)",
   "language": "python",
   "name": "python3"
  },
  "language_info": {
   "codemirror_mode": {
    "name": "ipython",
    "version": 3
   },
   "file_extension": ".py",
   "mimetype": "text/x-python",
   "name": "python",
   "nbconvert_exporter": "python",
   "pygments_lexer": "ipython3",
   "version": "3.9.13"
  }
 },
 "nbformat": 4,
 "nbformat_minor": 5
}
